{
  "nbformat": 4,
  "nbformat_minor": 0,
  "metadata": {
    "colab": {
      "provenance": []
    },
    "kernelspec": {
      "name": "python3",
      "display_name": "Python 3"
    },
    "language_info": {
      "name": "python"
    }
  },
  "cells": [
    {
      "cell_type": "code",
      "source": [
        "import random\n",
        "\n",
        "def generate_otp():\n",
        "    \"\"\"Generate a random 6-digit OTP\"\"\"\n",
        "    digits = \"0123456789\"\n",
        "    otp = \"\"\n",
        "    for _ in range(6):\n",
        "        otp += random.choice(digits)\n",
        "    return otp\n",
        "\n",
        "def send_otp(phone_number, otp):\n",
        "    \"\"\"Simulate sending OTP to a phone number (print it)\"\"\"\n",
        "    print(f\"OTP sent to {phone_number}: {otp}\")\n",
        "\n",
        "def verify_otp(entered_otp, otp):\n",
        "    \"\"\"Verify the entered OTP\"\"\"\n",
        "    return entered_otp == otp\n",
        "\n",
        "# Simulate a user entering their phone number\n",
        "phone_number = input(\"Enter your phone number: \")\n",
        "\n",
        "# Generate and send OTP\n",
        "otp = generate_otp()\n",
        "send_otp(phone_number, otp)\n",
        "\n",
        "# Simulate a user entering the OTP for verification\n",
        "entered_otp = input(\"Enter the OTP you received: \")\n",
        "\n",
        "# Verify the OTP\n",
        "if verify_otp(entered_otp, otp):\n",
        "    print(\"OTP verification successful!\")\n",
        "else:\n",
        "    print(\"OTP verification failed.\")"
      ],
      "metadata": {
        "colab": {
          "base_uri": "https://localhost:8080/"
        },
        "id": "FQ_AiOljZ9YF",
        "outputId": "a792000e-3620-4934-b41c-388b1770f32b"
      },
      "execution_count": null,
      "outputs": [
        {
          "output_type": "stream",
          "name": "stdout",
          "text": [
            "Enter your phone number: 8077103303\n",
            "OTP sent to 8077103303: 352856\n"
          ]
        }
      ]
    }
  ]
}